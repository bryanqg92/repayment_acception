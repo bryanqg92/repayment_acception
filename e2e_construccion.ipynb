{
 "cells": [
  {
   "cell_type": "code",
   "execution_count": 1,
   "metadata": {},
   "outputs": [],
   "source": [
    "import pandas as pd\n",
    "import numpy as np\n",
    "import matplotlib.pyplot as plt\n",
    "import seaborn as sns\n",
    "\n",
    "pd.set_option('display.max_columns', None)"
   ]
  },
  {
   "cell_type": "code",
   "execution_count": 2,
   "metadata": {},
   "outputs": [],
   "source": [
    "#Cargar todos los datasets pre-procesados\n",
    "df_train = pd.read_csv('processed_files/train_md.csv')\n",
    "df_demografico = pd.read_csv('processed_files/demografica.csv')\n",
    "#df_mod_existentes = pd.read_csv('processed_files/modelos_existentes.csv')\n",
    "df_historic = pd.read_csv('processed_files/historic.csv')"
   ]
  },
  {
   "cell_type": "code",
   "execution_count": 3,
   "metadata": {},
   "outputs": [
    {
     "data": {
      "text/html": [
       "<div>\n",
       "<style scoped>\n",
       "    .dataframe tbody tr th:only-of-type {\n",
       "        vertical-align: middle;\n",
       "    }\n",
       "\n",
       "    .dataframe tbody tr th {\n",
       "        vertical-align: top;\n",
       "    }\n",
       "\n",
       "    .dataframe thead th {\n",
       "        text-align: right;\n",
       "    }\n",
       "</style>\n",
       "<table border=\"1\" class=\"dataframe\">\n",
       "  <thead>\n",
       "    <tr style=\"text-align: right;\">\n",
       "      <th></th>\n",
       "      <th>nit_enmascarado</th>\n",
       "      <th>num_oblig_orig_enmascarado</th>\n",
       "      <th>num_oblig_enmascarado</th>\n",
       "      <th>fecha_var_rpta_alt</th>\n",
       "      <th>var_rpta_alt</th>\n",
       "      <th>min_mora</th>\n",
       "      <th>max_mora</th>\n",
       "      <th>dias_mora_fin</th>\n",
       "      <th>vlr_obligacion</th>\n",
       "      <th>vlr_vencido</th>\n",
       "      <th>saldo_capital</th>\n",
       "      <th>endeudamiento</th>\n",
       "      <th>cant_alter_posibles</th>\n",
       "      <th>cant_gestiones</th>\n",
       "      <th>cant_gestiones_binario</th>\n",
       "      <th>rpc</th>\n",
       "      <th>promesas_cumplidas</th>\n",
       "      <th>cant_promesas_cumplidas_binario</th>\n",
       "      <th>cant_acuerdo</th>\n",
       "      <th>cant_acuerdo_binario</th>\n",
       "      <th>valor_cuota_mes</th>\n",
       "      <th>pago_cuota</th>\n",
       "      <th>porc_pago_cuota</th>\n",
       "      <th>pago_mes</th>\n",
       "    </tr>\n",
       "  </thead>\n",
       "  <tbody>\n",
       "    <tr>\n",
       "      <th>count</th>\n",
       "      <td>568251.000000</td>\n",
       "      <td>5.682510e+05</td>\n",
       "      <td>5.682510e+05</td>\n",
       "      <td>568251.000000</td>\n",
       "      <td>568251.000000</td>\n",
       "      <td>568251.000000</td>\n",
       "      <td>568251.000000</td>\n",
       "      <td>568251.000000</td>\n",
       "      <td>5.682510e+05</td>\n",
       "      <td>5.682510e+05</td>\n",
       "      <td>5.682510e+05</td>\n",
       "      <td>5.682510e+05</td>\n",
       "      <td>568251.000000</td>\n",
       "      <td>568251.000000</td>\n",
       "      <td>568251.000000</td>\n",
       "      <td>568251.000000</td>\n",
       "      <td>568251.000000</td>\n",
       "      <td>568251.000000</td>\n",
       "      <td>568251.000000</td>\n",
       "      <td>568251.000000</td>\n",
       "      <td>5.682510e+05</td>\n",
       "      <td>5.682510e+05</td>\n",
       "      <td>568251.000000</td>\n",
       "      <td>5.682510e+05</td>\n",
       "    </tr>\n",
       "    <tr>\n",
       "      <th>mean</th>\n",
       "      <td>307451.784203</td>\n",
       "      <td>5.359492e+05</td>\n",
       "      <td>5.435817e+05</td>\n",
       "      <td>202309.946909</td>\n",
       "      <td>0.480013</td>\n",
       "      <td>26.847504</td>\n",
       "      <td>48.543566</td>\n",
       "      <td>37.255445</td>\n",
       "      <td>1.166472e+07</td>\n",
       "      <td>1.036970e+06</td>\n",
       "      <td>1.080523e+07</td>\n",
       "      <td>3.532702e+07</td>\n",
       "      <td>1.810911</td>\n",
       "      <td>33.347179</td>\n",
       "      <td>0.967358</td>\n",
       "      <td>0.933244</td>\n",
       "      <td>0.211181</td>\n",
       "      <td>0.095718</td>\n",
       "      <td>1.076658</td>\n",
       "      <td>0.304798</td>\n",
       "      <td>1.009573e+06</td>\n",
       "      <td>8.378919e+05</td>\n",
       "      <td>0.238374</td>\n",
       "      <td>2.235457e+05</td>\n",
       "    </tr>\n",
       "    <tr>\n",
       "      <th>std</th>\n",
       "      <td>182473.928544</td>\n",
       "      <td>3.113386e+05</td>\n",
       "      <td>3.103269e+05</td>\n",
       "      <td>1.386705</td>\n",
       "      <td>0.499601</td>\n",
       "      <td>25.841082</td>\n",
       "      <td>32.154424</td>\n",
       "      <td>35.215980</td>\n",
       "      <td>2.478713e+07</td>\n",
       "      <td>2.722675e+06</td>\n",
       "      <td>2.345022e+07</td>\n",
       "      <td>5.746192e+07</td>\n",
       "      <td>0.864228</td>\n",
       "      <td>26.653607</td>\n",
       "      <td>0.177699</td>\n",
       "      <td>0.249599</td>\n",
       "      <td>0.689451</td>\n",
       "      <td>0.294205</td>\n",
       "      <td>2.113802</td>\n",
       "      <td>0.460322</td>\n",
       "      <td>2.780314e+06</td>\n",
       "      <td>7.176185e+06</td>\n",
       "      <td>0.406320</td>\n",
       "      <td>1.764742e+06</td>\n",
       "    </tr>\n",
       "    <tr>\n",
       "      <th>min</th>\n",
       "      <td>1.000000</td>\n",
       "      <td>4.030000e+02</td>\n",
       "      <td>3.000000e+00</td>\n",
       "      <td>202308.000000</td>\n",
       "      <td>0.000000</td>\n",
       "      <td>1.000000</td>\n",
       "      <td>1.000000</td>\n",
       "      <td>0.000000</td>\n",
       "      <td>0.000000e+00</td>\n",
       "      <td>0.000000e+00</td>\n",
       "      <td>0.000000e+00</td>\n",
       "      <td>6.000000e+00</td>\n",
       "      <td>1.000000</td>\n",
       "      <td>2.000000</td>\n",
       "      <td>0.000000</td>\n",
       "      <td>0.000000</td>\n",
       "      <td>0.000000</td>\n",
       "      <td>0.000000</td>\n",
       "      <td>0.000000</td>\n",
       "      <td>0.000000</td>\n",
       "      <td>0.000000e+00</td>\n",
       "      <td>0.000000e+00</td>\n",
       "      <td>0.000000</td>\n",
       "      <td>0.000000e+00</td>\n",
       "    </tr>\n",
       "    <tr>\n",
       "      <th>25%</th>\n",
       "      <td>152582.000000</td>\n",
       "      <td>2.680965e+05</td>\n",
       "      <td>2.779360e+05</td>\n",
       "      <td>202309.000000</td>\n",
       "      <td>0.000000</td>\n",
       "      <td>4.000000</td>\n",
       "      <td>23.000000</td>\n",
       "      <td>0.000000</td>\n",
       "      <td>1.577906e+06</td>\n",
       "      <td>1.900590e+05</td>\n",
       "      <td>1.415149e+06</td>\n",
       "      <td>5.103892e+06</td>\n",
       "      <td>1.000000</td>\n",
       "      <td>14.000000</td>\n",
       "      <td>1.000000</td>\n",
       "      <td>1.000000</td>\n",
       "      <td>0.000000</td>\n",
       "      <td>0.000000</td>\n",
       "      <td>0.000000</td>\n",
       "      <td>0.000000</td>\n",
       "      <td>1.833815e+05</td>\n",
       "      <td>0.000000e+00</td>\n",
       "      <td>0.000000</td>\n",
       "      <td>0.000000e+00</td>\n",
       "    </tr>\n",
       "    <tr>\n",
       "      <th>50%</th>\n",
       "      <td>299397.000000</td>\n",
       "      <td>5.342080e+05</td>\n",
       "      <td>5.461340e+05</td>\n",
       "      <td>202310.000000</td>\n",
       "      <td>0.000000</td>\n",
       "      <td>17.000000</td>\n",
       "      <td>43.000000</td>\n",
       "      <td>29.000000</td>\n",
       "      <td>4.168354e+06</td>\n",
       "      <td>4.541250e+05</td>\n",
       "      <td>3.773916e+06</td>\n",
       "      <td>1.484568e+07</td>\n",
       "      <td>2.000000</td>\n",
       "      <td>28.000000</td>\n",
       "      <td>1.000000</td>\n",
       "      <td>1.000000</td>\n",
       "      <td>0.000000</td>\n",
       "      <td>0.000000</td>\n",
       "      <td>0.000000</td>\n",
       "      <td>0.000000</td>\n",
       "      <td>4.513657e+05</td>\n",
       "      <td>0.000000e+00</td>\n",
       "      <td>0.000000</td>\n",
       "      <td>0.000000e+00</td>\n",
       "    </tr>\n",
       "    <tr>\n",
       "      <th>75%</th>\n",
       "      <td>463424.500000</td>\n",
       "      <td>8.024060e+05</td>\n",
       "      <td>8.110760e+05</td>\n",
       "      <td>202311.000000</td>\n",
       "      <td>1.000000</td>\n",
       "      <td>46.000000</td>\n",
       "      <td>70.000000</td>\n",
       "      <td>60.000000</td>\n",
       "      <td>1.081424e+07</td>\n",
       "      <td>1.032518e+06</td>\n",
       "      <td>9.890030e+06</td>\n",
       "      <td>4.225977e+07</td>\n",
       "      <td>3.000000</td>\n",
       "      <td>44.000000</td>\n",
       "      <td>1.000000</td>\n",
       "      <td>1.000000</td>\n",
       "      <td>0.000000</td>\n",
       "      <td>0.000000</td>\n",
       "      <td>2.000000</td>\n",
       "      <td>1.000000</td>\n",
       "      <td>1.028775e+06</td>\n",
       "      <td>8.586800e+04</td>\n",
       "      <td>0.323465</td>\n",
       "      <td>0.000000e+00</td>\n",
       "    </tr>\n",
       "    <tr>\n",
       "      <th>max</th>\n",
       "      <td>634709.000000</td>\n",
       "      <td>1.080339e+06</td>\n",
       "      <td>1.080719e+06</td>\n",
       "      <td>202312.000000</td>\n",
       "      <td>1.000000</td>\n",
       "      <td>90.000000</td>\n",
       "      <td>1612.000000</td>\n",
       "      <td>609.000000</td>\n",
       "      <td>1.589994e+09</td>\n",
       "      <td>5.023519e+08</td>\n",
       "      <td>1.552838e+09</td>\n",
       "      <td>1.879460e+09</td>\n",
       "      <td>12.000000</td>\n",
       "      <td>1030.000000</td>\n",
       "      <td>1.000000</td>\n",
       "      <td>1.000000</td>\n",
       "      <td>16.000000</td>\n",
       "      <td>1.000000</td>\n",
       "      <td>56.000000</td>\n",
       "      <td>1.000000</td>\n",
       "      <td>5.023519e+08</td>\n",
       "      <td>2.415000e+09</td>\n",
       "      <td>1.000000</td>\n",
       "      <td>3.450000e+08</td>\n",
       "    </tr>\n",
       "  </tbody>\n",
       "</table>\n",
       "</div>"
      ],
      "text/plain": [
       "       nit_enmascarado  num_oblig_orig_enmascarado  num_oblig_enmascarado  \\\n",
       "count    568251.000000                5.682510e+05           5.682510e+05   \n",
       "mean     307451.784203                5.359492e+05           5.435817e+05   \n",
       "std      182473.928544                3.113386e+05           3.103269e+05   \n",
       "min           1.000000                4.030000e+02           3.000000e+00   \n",
       "25%      152582.000000                2.680965e+05           2.779360e+05   \n",
       "50%      299397.000000                5.342080e+05           5.461340e+05   \n",
       "75%      463424.500000                8.024060e+05           8.110760e+05   \n",
       "max      634709.000000                1.080339e+06           1.080719e+06   \n",
       "\n",
       "       fecha_var_rpta_alt   var_rpta_alt       min_mora       max_mora  \\\n",
       "count       568251.000000  568251.000000  568251.000000  568251.000000   \n",
       "mean        202309.946909       0.480013      26.847504      48.543566   \n",
       "std              1.386705       0.499601      25.841082      32.154424   \n",
       "min         202308.000000       0.000000       1.000000       1.000000   \n",
       "25%         202309.000000       0.000000       4.000000      23.000000   \n",
       "50%         202310.000000       0.000000      17.000000      43.000000   \n",
       "75%         202311.000000       1.000000      46.000000      70.000000   \n",
       "max         202312.000000       1.000000      90.000000    1612.000000   \n",
       "\n",
       "       dias_mora_fin  vlr_obligacion   vlr_vencido  saldo_capital  \\\n",
       "count  568251.000000    5.682510e+05  5.682510e+05   5.682510e+05   \n",
       "mean       37.255445    1.166472e+07  1.036970e+06   1.080523e+07   \n",
       "std        35.215980    2.478713e+07  2.722675e+06   2.345022e+07   \n",
       "min         0.000000    0.000000e+00  0.000000e+00   0.000000e+00   \n",
       "25%         0.000000    1.577906e+06  1.900590e+05   1.415149e+06   \n",
       "50%        29.000000    4.168354e+06  4.541250e+05   3.773916e+06   \n",
       "75%        60.000000    1.081424e+07  1.032518e+06   9.890030e+06   \n",
       "max       609.000000    1.589994e+09  5.023519e+08   1.552838e+09   \n",
       "\n",
       "       endeudamiento  cant_alter_posibles  cant_gestiones  \\\n",
       "count   5.682510e+05        568251.000000   568251.000000   \n",
       "mean    3.532702e+07             1.810911       33.347179   \n",
       "std     5.746192e+07             0.864228       26.653607   \n",
       "min     6.000000e+00             1.000000        2.000000   \n",
       "25%     5.103892e+06             1.000000       14.000000   \n",
       "50%     1.484568e+07             2.000000       28.000000   \n",
       "75%     4.225977e+07             3.000000       44.000000   \n",
       "max     1.879460e+09            12.000000     1030.000000   \n",
       "\n",
       "       cant_gestiones_binario            rpc  promesas_cumplidas  \\\n",
       "count           568251.000000  568251.000000       568251.000000   \n",
       "mean                 0.967358       0.933244            0.211181   \n",
       "std                  0.177699       0.249599            0.689451   \n",
       "min                  0.000000       0.000000            0.000000   \n",
       "25%                  1.000000       1.000000            0.000000   \n",
       "50%                  1.000000       1.000000            0.000000   \n",
       "75%                  1.000000       1.000000            0.000000   \n",
       "max                  1.000000       1.000000           16.000000   \n",
       "\n",
       "       cant_promesas_cumplidas_binario   cant_acuerdo  cant_acuerdo_binario  \\\n",
       "count                    568251.000000  568251.000000         568251.000000   \n",
       "mean                          0.095718       1.076658              0.304798   \n",
       "std                           0.294205       2.113802              0.460322   \n",
       "min                           0.000000       0.000000              0.000000   \n",
       "25%                           0.000000       0.000000              0.000000   \n",
       "50%                           0.000000       0.000000              0.000000   \n",
       "75%                           0.000000       2.000000              1.000000   \n",
       "max                           1.000000      56.000000              1.000000   \n",
       "\n",
       "       valor_cuota_mes    pago_cuota  porc_pago_cuota      pago_mes  \n",
       "count     5.682510e+05  5.682510e+05    568251.000000  5.682510e+05  \n",
       "mean      1.009573e+06  8.378919e+05         0.238374  2.235457e+05  \n",
       "std       2.780314e+06  7.176185e+06         0.406320  1.764742e+06  \n",
       "min       0.000000e+00  0.000000e+00         0.000000  0.000000e+00  \n",
       "25%       1.833815e+05  0.000000e+00         0.000000  0.000000e+00  \n",
       "50%       4.513657e+05  0.000000e+00         0.000000  0.000000e+00  \n",
       "75%       1.028775e+06  8.586800e+04         0.323465  0.000000e+00  \n",
       "max       5.023519e+08  2.415000e+09         1.000000  3.450000e+08  "
      ]
     },
     "execution_count": 3,
     "metadata": {},
     "output_type": "execute_result"
    }
   ],
   "source": [
    "df_train.describe()"
   ]
  },
  {
   "cell_type": "code",
   "execution_count": 3,
   "metadata": {},
   "outputs": [
    {
     "name": "stdout",
     "output_type": "stream",
     "text": [
      "Las columnas 'total_ing' y 'tot_patrimonio' se han agregado correctamente.\n",
      "\n",
      "Cantidad de valores nulos en las nuevas columnas:\n",
      "total_ing         111961\n",
      "tot_patrimonio    111961\n",
      "dtype: int64\n"
     ]
    }
   ],
   "source": [
    "# agregamos las features demograficas de ingresos y patrimonio a la tabla de entrenamiento\n",
    "\n",
    "df_resultado = df_train.merge(\n",
    "    df_demografico[['nit_enmascarado', 'total_ing', 'tot_patrimonio']],\n",
    "    on='nit_enmascarado',\n",
    "    how='left'\n",
    ")\n",
    "\n",
    "nuevas_columnas = ['total_ing', 'tot_patrimonio']\n",
    "columnas_agregadas = all(col in df_resultado.columns for col in nuevas_columnas)\n",
    "    \n",
    "if columnas_agregadas:\n",
    "    print(\"Las columnas 'total_ing' y 'tot_patrimonio' se han agregado correctamente.\")\n",
    "else:\n",
    "    print(\"Hubo un problema al agregar las nuevas columnas.\")\n",
    "\n",
    "nulos = df_resultado[nuevas_columnas].isnull().sum()\n",
    "print(\"\\nCantidad de valores nulos en las nuevas columnas:\")\n",
    "print(nulos)"
   ]
  },
  {
   "cell_type": "code",
   "execution_count": 5,
   "metadata": {},
   "outputs": [
    {
     "name": "stdout",
     "output_type": "stream",
     "text": [
      "Cantidad de nit_enmascarado en df_train que no existen en df_demografico: 52677\n"
     ]
    }
   ],
   "source": [
    "# verificar si los nit_enmascarado en df_train existen en df_demografico\n",
    "\n",
    "nits_train = df_train['nit_enmascarado'].unique()\n",
    "nits_demografico = df_demografico['nit_enmascarado'].unique()\n",
    "nits_no_existen = set(nits_train) - set(nits_demografico)\n",
    "cantidad_nits_no_existen = len(nits_no_existen)\n",
    "\n",
    "print(f\"Cantidad de nit_enmascarado en df_train que no existen en df_demografico: {cantidad_nits_no_existen}\")\n"
   ]
  },
  {
   "cell_type": "code",
   "execution_count": 6,
   "metadata": {},
   "outputs": [
    {
     "name": "stdout",
     "output_type": "stream",
     "text": [
      "Las columnas de promedios se han agregado correctamente.\n",
      "\n",
      "Cantidad de valores nulos en las nuevas columnas:\n",
      "promedio_prob_propension       24\n",
      "promedio_prob_alrt_temprana    24\n",
      "promedio_prob_auto_cura        24\n",
      "dtype: int64\n"
     ]
    }
   ],
   "source": [
    "features_a_promediar = ['prob_propension', 'prob_alrt_temprana', 'prob_auto_cura']\n",
    "df_promedios = df_mod_existentes.groupby('nit_enmascarado')[features_a_promediar].mean()\n",
    "\n",
    "df_promedios.columns = [f'promedio_{col}' for col in df_promedios.columns]\n",
    "\n",
    "df_resultado = pd.merge(df_resultado, df_promedios, on='nit_enmascarado', how='left')\n",
    "\n",
    "nuevas_columnas = [f'promedio_{col}' for col in features_a_promediar]\n",
    "columnas_agregadas = all(col in df_resultado.columns for col in nuevas_columnas)\n",
    "\n",
    "if columnas_agregadas:\n",
    "    print(\"Las columnas de promedios se han agregado correctamente.\")\n",
    "else:\n",
    "    print(\"Hubo un problema al agregar las nuevas columnas de promedios.\")\n",
    "\n",
    "# Verificar si hay valores nulos en las nuevas columnas\n",
    "nulos = df_resultado[nuevas_columnas].isnull().sum()\n",
    "print(\"\\nCantidad de valores nulos en las nuevas columnas:\")\n",
    "print(nulos)"
   ]
  },
  {
   "cell_type": "code",
   "execution_count": 7,
   "metadata": {},
   "outputs": [
    {
     "name": "stdout",
     "output_type": "stream",
     "text": [
      "Cantidad de nit_enmascarado en df_train que no existen en df_mod_existentes: 11\n"
     ]
    }
   ],
   "source": [
    "nits_train = df_resultado['nit_enmascarado'].unique()\n",
    "nits_mod_existentes = df_mod_existentes['nit_enmascarado'].unique()\n",
    "nits_no_existen = set(nits_train) - set(nits_mod_existentes)\n",
    "cantidad_nits_no_existen = len(nits_no_existen)\n",
    "\n",
    "print(f\"Cantidad de nit_enmascarado en df_train que no existen en df_mod_existentes: {cantidad_nits_no_existen}\")"
   ]
  },
  {
   "cell_type": "code",
   "execution_count": 4,
   "metadata": {},
   "outputs": [
    {
     "name": "stdout",
     "output_type": "stream",
     "text": [
      "La columna 'moda_marca_pago' se ha agregado correctamente.\n",
      "\n",
      "Cantidad de valores nulos en 'moda_marca_pago': 14\n"
     ]
    }
   ],
   "source": [
    "\n",
    "# Calcular la moda de 'marca_pago' para cada combinación de 'nit_enmascarado' y 'num_oblig_enmascarado'\n",
    "df_moda = df_historic.groupby(['nit_enmascarado', 'num_oblig_enmascarado'])['marca_pago'].agg(\n",
    "    lambda x: x.mode().iloc[0] if not x.empty else pd.NA\n",
    ").reset_index()\n",
    "\n",
    "df_moda = df_moda.rename(columns={'marca_pago': 'moda_marca_pago'})\n",
    "\n",
    "df_resultado = pd.merge(\n",
    "    df_resultado, \n",
    "    df_moda, \n",
    "    on=['nit_enmascarado', 'num_oblig_enmascarado'], \n",
    "    how='left'\n",
    ")\n",
    "\n",
    "if 'moda_marca_pago' in df_resultado.columns:\n",
    "    print(\"La columna 'moda_marca_pago' se ha agregado correctamente.\")\n",
    "else:\n",
    "    print(\"Hubo un problema al agregar la columna 'moda_marca_pago'.\")\n",
    "\n",
    "# Verificar si hay valores nulos en la nueva columna\n",
    "nulos = df_resultado['moda_marca_pago'].isnull().sum()\n",
    "print(f\"\\nCantidad de valores nulos en 'moda_marca_pago': {nulos}\")"
   ]
  },
  {
   "cell_type": "code",
   "execution_count": 9,
   "metadata": {},
   "outputs": [
    {
     "data": {
      "text/html": [
       "<div>\n",
       "<style scoped>\n",
       "    .dataframe tbody tr th:only-of-type {\n",
       "        vertical-align: middle;\n",
       "    }\n",
       "\n",
       "    .dataframe tbody tr th {\n",
       "        vertical-align: top;\n",
       "    }\n",
       "\n",
       "    .dataframe thead th {\n",
       "        text-align: right;\n",
       "    }\n",
       "</style>\n",
       "<table border=\"1\" class=\"dataframe\">\n",
       "  <thead>\n",
       "    <tr style=\"text-align: right;\">\n",
       "      <th></th>\n",
       "      <th>total_ing</th>\n",
       "      <th>tot_patrimonio</th>\n",
       "      <th>promedio_prob_propension</th>\n",
       "      <th>promedio_prob_alrt_temprana</th>\n",
       "      <th>promedio_prob_auto_cura</th>\n",
       "    </tr>\n",
       "  </thead>\n",
       "  <tbody>\n",
       "    <tr>\n",
       "      <th>count</th>\n",
       "      <td>8.131850e+05</td>\n",
       "      <td>8.131850e+05</td>\n",
       "      <td>925122.000000</td>\n",
       "      <td>925122.000000</td>\n",
       "      <td>925122.000000</td>\n",
       "    </tr>\n",
       "    <tr>\n",
       "      <th>mean</th>\n",
       "      <td>3.976039e+07</td>\n",
       "      <td>1.782410e+08</td>\n",
       "      <td>0.678777</td>\n",
       "      <td>0.449077</td>\n",
       "      <td>0.467521</td>\n",
       "    </tr>\n",
       "    <tr>\n",
       "      <th>std</th>\n",
       "      <td>8.104119e+09</td>\n",
       "      <td>2.298601e+10</td>\n",
       "      <td>0.146471</td>\n",
       "      <td>0.149709</td>\n",
       "      <td>0.163752</td>\n",
       "    </tr>\n",
       "    <tr>\n",
       "      <th>min</th>\n",
       "      <td>0.000000e+00</td>\n",
       "      <td>0.000000e+00</td>\n",
       "      <td>0.059368</td>\n",
       "      <td>0.039859</td>\n",
       "      <td>0.053027</td>\n",
       "    </tr>\n",
       "    <tr>\n",
       "      <th>25%</th>\n",
       "      <td>1.100000e+06</td>\n",
       "      <td>3.901000e+06</td>\n",
       "      <td>0.587051</td>\n",
       "      <td>0.339575</td>\n",
       "      <td>0.334341</td>\n",
       "    </tr>\n",
       "    <tr>\n",
       "      <th>50%</th>\n",
       "      <td>2.000000e+06</td>\n",
       "      <td>2.519398e+07</td>\n",
       "      <td>0.706655</td>\n",
       "      <td>0.458228</td>\n",
       "      <td>0.464964</td>\n",
       "    </tr>\n",
       "    <tr>\n",
       "      <th>75%</th>\n",
       "      <td>4.538465e+06</td>\n",
       "      <td>8.523100e+07</td>\n",
       "      <td>0.790258</td>\n",
       "      <td>0.558842</td>\n",
       "      <td>0.597604</td>\n",
       "    </tr>\n",
       "    <tr>\n",
       "      <th>max</th>\n",
       "      <td>5.800001e+12</td>\n",
       "      <td>9.799656e+12</td>\n",
       "      <td>0.956808</td>\n",
       "      <td>0.923734</td>\n",
       "      <td>0.922523</td>\n",
       "    </tr>\n",
       "  </tbody>\n",
       "</table>\n",
       "</div>"
      ],
      "text/plain": [
       "          total_ing  tot_patrimonio  promedio_prob_propension  \\\n",
       "count  8.131850e+05    8.131850e+05             925122.000000   \n",
       "mean   3.976039e+07    1.782410e+08                  0.678777   \n",
       "std    8.104119e+09    2.298601e+10                  0.146471   \n",
       "min    0.000000e+00    0.000000e+00                  0.059368   \n",
       "25%    1.100000e+06    3.901000e+06                  0.587051   \n",
       "50%    2.000000e+06    2.519398e+07                  0.706655   \n",
       "75%    4.538465e+06    8.523100e+07                  0.790258   \n",
       "max    5.800001e+12    9.799656e+12                  0.956808   \n",
       "\n",
       "       promedio_prob_alrt_temprana  promedio_prob_auto_cura  \n",
       "count                925122.000000            925122.000000  \n",
       "mean                      0.449077                 0.467521  \n",
       "std                       0.149709                 0.163752  \n",
       "min                       0.039859                 0.053027  \n",
       "25%                       0.339575                 0.334341  \n",
       "50%                       0.458228                 0.464964  \n",
       "75%                       0.558842                 0.597604  \n",
       "max                       0.923734                 0.922523  "
      ]
     },
     "execution_count": 9,
     "metadata": {},
     "output_type": "execute_result"
    }
   ],
   "source": [
    "df_resultado[['total_ing','tot_patrimonio', 'promedio_prob_propension', 'promedio_prob_alrt_temprana','promedio_prob_auto_cura']].describe()"
   ]
  },
  {
   "cell_type": "code",
   "execution_count": 5,
   "metadata": {},
   "outputs": [],
   "source": [
    "# Imputación con la mediana para `total_ing` y `tot_patrimonio`\n",
    "df_resultado['total_ing'] = df_resultado['total_ing'].fillna(df_resultado['total_ing'].median())\n",
    "df_resultado['tot_patrimonio'] = df_resultado['tot_patrimonio'].fillna(df_resultado['tot_patrimonio'].median())\n",
    "\n",
    "# Imputación con la media para `promedio_prob_propension`, `promedio_prob_alrt_temprana`, `promedio_prob_auto_cura`\n",
    "#df_resultado['promedio_prob_propension'] = df_resultado['promedio_prob_propension'].fillna(df_resultado['promedio_prob_propension'].mean())\n",
    "#df_resultado['promedio_prob_alrt_temprana'] = df_resultado['promedio_prob_alrt_temprana'].fillna(df_resultado['promedio_prob_alrt_temprana'].mean())\n",
    "#df_resultado['promedio_prob_auto_cura'] = df_resultado['promedio_prob_auto_cura'].fillna(df_resultado['promedio_prob_auto_cura'].mean())\n"
   ]
  },
  {
   "cell_type": "code",
   "execution_count": 7,
   "metadata": {},
   "outputs": [
    {
     "data": {
      "text/plain": [
       "array([[<Axes: title={'center': 'nit_enmascarado'}>,\n",
       "        <Axes: title={'center': 'num_oblig_orig_enmascarado'}>,\n",
       "        <Axes: title={'center': 'num_oblig_enmascarado'}>,\n",
       "        <Axes: title={'center': 'fecha_var_rpta_alt'}>,\n",
       "        <Axes: title={'center': 'var_rpta_alt'}>],\n",
       "       [<Axes: title={'center': 'min_mora'}>,\n",
       "        <Axes: title={'center': 'max_mora'}>,\n",
       "        <Axes: title={'center': 'dias_mora_fin'}>,\n",
       "        <Axes: title={'center': 'vlr_obligacion'}>,\n",
       "        <Axes: title={'center': 'vlr_vencido'}>],\n",
       "       [<Axes: title={'center': 'saldo_capital'}>,\n",
       "        <Axes: title={'center': 'endeudamiento'}>,\n",
       "        <Axes: title={'center': 'cant_alter_posibles'}>,\n",
       "        <Axes: title={'center': 'cant_gestiones'}>,\n",
       "        <Axes: title={'center': 'cant_gestiones_binario'}>],\n",
       "       [<Axes: title={'center': 'rpc'}>,\n",
       "        <Axes: title={'center': 'promesas_cumplidas'}>,\n",
       "        <Axes: title={'center': 'cant_promesas_cumplidas_binario'}>,\n",
       "        <Axes: title={'center': 'cant_acuerdo'}>,\n",
       "        <Axes: title={'center': 'cant_acuerdo_binario'}>],\n",
       "       [<Axes: title={'center': 'valor_cuota_mes'}>,\n",
       "        <Axes: title={'center': 'pago_cuota'}>,\n",
       "        <Axes: title={'center': 'porc_pago_cuota'}>,\n",
       "        <Axes: title={'center': 'pago_mes'}>,\n",
       "        <Axes: title={'center': 'total_ing'}>],\n",
       "       [<Axes: title={'center': 'tot_patrimonio'}>, <Axes: >, <Axes: >,\n",
       "        <Axes: >, <Axes: >]], dtype=object)"
      ]
     },
     "execution_count": 7,
     "metadata": {},
     "output_type": "execute_result"
    },
    {
     "data": {
      "image/png": "[encoded data removed]",
      "text/plain": [
       "<Figure size 2000x2000 with 30 Axes>"
      ]
     },
     "metadata": {},
     "output_type": "display_data"
    }
   ],
   "source": [
    "df_resultado.hist(figsize=(20,20))"
   ]
  },
  {
   "cell_type": "code",
   "execution_count": 8,
   "metadata": {},
   "outputs": [
    {
     "data": {
      "text/html": [
       "<div>\n",
       "<style scoped>\n",
       "    .dataframe tbody tr th:only-of-type {\n",
       "        vertical-align: middle;\n",
       "    }\n",
       "\n",
       "    .dataframe tbody tr th {\n",
       "        vertical-align: top;\n",
       "    }\n",
       "\n",
       "    .dataframe thead th {\n",
       "        text-align: right;\n",
       "    }\n",
       "</style>\n",
       "<table border=\"1\" class=\"dataframe\">\n",
       "  <thead>\n",
       "    <tr style=\"text-align: right;\">\n",
       "      <th></th>\n",
       "      <th>nit_enmascarado</th>\n",
       "      <th>num_oblig_orig_enmascarado</th>\n",
       "      <th>num_oblig_enmascarado</th>\n",
       "      <th>fecha_var_rpta_alt</th>\n",
       "      <th>var_rpta_alt</th>\n",
       "      <th>tipo_var_rpta_alt</th>\n",
       "      <th>banca</th>\n",
       "      <th>segmento</th>\n",
       "      <th>producto</th>\n",
       "      <th>producto_cons</th>\n",
       "      <th>aplicativo</th>\n",
       "      <th>min_mora</th>\n",
       "      <th>max_mora</th>\n",
       "      <th>dias_mora_fin</th>\n",
       "      <th>rango_mora</th>\n",
       "      <th>vlr_obligacion</th>\n",
       "      <th>vlr_vencido</th>\n",
       "      <th>saldo_capital</th>\n",
       "      <th>endeudamiento</th>\n",
       "      <th>desc_alternativa1</th>\n",
       "      <th>desc_alternativa2</th>\n",
       "      <th>desc_alternativa3</th>\n",
       "      <th>cant_alter_posibles</th>\n",
       "      <th>alter_posible1_2</th>\n",
       "      <th>cant_gestiones</th>\n",
       "      <th>cant_gestiones_binario</th>\n",
       "      <th>rpc</th>\n",
       "      <th>promesas_cumplidas</th>\n",
       "      <th>cant_promesas_cumplidas_binario</th>\n",
       "      <th>cant_acuerdo</th>\n",
       "      <th>cant_acuerdo_binario</th>\n",
       "      <th>descripcion_ranking_mejor_ult</th>\n",
       "      <th>descripcion_ranking_post_ult</th>\n",
       "      <th>marca_alt_rank</th>\n",
       "      <th>marca_alt_apli</th>\n",
       "      <th>valor_cuota_mes</th>\n",
       "      <th>pago_cuota</th>\n",
       "      <th>porc_pago_cuota</th>\n",
       "      <th>pago_mes</th>\n",
       "      <th>pagos_tanque</th>\n",
       "      <th>marca_debito_mora</th>\n",
       "      <th>marca_pago</th>\n",
       "      <th>marca_alternativa</th>\n",
       "      <th>marca_alternativa_orig</th>\n",
       "      <th>high_rpc_low_payment</th>\n",
       "      <th>cuartil_deuda</th>\n",
       "      <th>total_ing</th>\n",
       "      <th>tot_patrimonio</th>\n",
       "      <th>moda_marca_pago</th>\n",
       "    </tr>\n",
       "  </thead>\n",
       "  <tbody>\n",
       "    <tr>\n",
       "      <th>0</th>\n",
       "      <td>630611</td>\n",
       "      <td>219718</td>\n",
       "      <td>863073</td>\n",
       "      <td>202308</td>\n",
       "      <td>1</td>\n",
       "      <td>a_uno_tipo_1</td>\n",
       "      <td>Banca Personas</td>\n",
       "      <td>Personal</td>\n",
       "      <td>TARJETA DE CREDITO</td>\n",
       "      <td>Tarjeta de Credito</td>\n",
       "      <td>V</td>\n",
       "      <td>46</td>\n",
       "      <td>71</td>\n",
       "      <td>71</td>\n",
       "      <td>b.31-90</td>\n",
       "      <td>6056996.0</td>\n",
       "      <td>1000259.0</td>\n",
       "      <td>5808115.68</td>\n",
       "      <td>12134572.0</td>\n",
       "      <td>Reestructuración novacion</td>\n",
       "      <td>Sin alivio</td>\n",
       "      <td>Sin alivio</td>\n",
       "      <td>1</td>\n",
       "      <td>CON22</td>\n",
       "      <td>46.0</td>\n",
       "      <td>1</td>\n",
       "      <td>1.0</td>\n",
       "      <td>0</td>\n",
       "      <td>0</td>\n",
       "      <td>0.0</td>\n",
       "      <td>0</td>\n",
       "      <td>ACEPTA ALTERNATIVA</td>\n",
       "      <td>CLIENTE AL DIA</td>\n",
       "      <td>Acepta alternativa</td>\n",
       "      <td>SI</td>\n",
       "      <td>1047805.49</td>\n",
       "      <td>100000.0</td>\n",
       "      <td>0.095438</td>\n",
       "      <td>0.0</td>\n",
       "      <td>Sin pago</td>\n",
       "      <td>NO</td>\n",
       "      <td>Sin pago</td>\n",
       "      <td>Acepta Alternativa</td>\n",
       "      <td>Acepta Alternativa</td>\n",
       "      <td>True</td>\n",
       "      <td>(4168354.0, 10814241.5]</td>\n",
       "      <td>700000.0</td>\n",
       "      <td>165012.0</td>\n",
       "      <td>NO_PAGO</td>\n",
       "    </tr>\n",
       "    <tr>\n",
       "      <th>1</th>\n",
       "      <td>59412</td>\n",
       "      <td>789567</td>\n",
       "      <td>290775</td>\n",
       "      <td>202312</td>\n",
       "      <td>1</td>\n",
       "      <td>a_uno_tipo_1</td>\n",
       "      <td>Banca Personas</td>\n",
       "      <td>Personal</td>\n",
       "      <td>LIBRE INVERSION</td>\n",
       "      <td>Libre Inversion</td>\n",
       "      <td>L</td>\n",
       "      <td>16</td>\n",
       "      <td>24</td>\n",
       "      <td>0</td>\n",
       "      <td>a.1-30</td>\n",
       "      <td>9877235.0</td>\n",
       "      <td>443638.0</td>\n",
       "      <td>9451816.00</td>\n",
       "      <td>15479703.0</td>\n",
       "      <td>Prorroga más Ampliación de plazo</td>\n",
       "      <td>Prorroga</td>\n",
       "      <td>Consolidación de pasivos</td>\n",
       "      <td>2</td>\n",
       "      <td>CON02</td>\n",
       "      <td>10.0</td>\n",
       "      <td>1</td>\n",
       "      <td>1.0</td>\n",
       "      <td>0</td>\n",
       "      <td>0</td>\n",
       "      <td>0.0</td>\n",
       "      <td>0</td>\n",
       "      <td>ACEPTA ALTERNATIVA</td>\n",
       "      <td>NO ACEPTA ACUERDO</td>\n",
       "      <td>Acepta alternativa</td>\n",
       "      <td>SI</td>\n",
       "      <td>443837.00</td>\n",
       "      <td>0.0</td>\n",
       "      <td>0.000000</td>\n",
       "      <td>0.0</td>\n",
       "      <td>Sin pago</td>\n",
       "      <td>NO</td>\n",
       "      <td>Sin pago</td>\n",
       "      <td>Acepta Alternativa</td>\n",
       "      <td>Acepta Alternativa</td>\n",
       "      <td>True</td>\n",
       "      <td>(4168354.0, 10814241.5]</td>\n",
       "      <td>1136000.0</td>\n",
       "      <td>35000000.0</td>\n",
       "      <td>PAGO_MENOS</td>\n",
       "    </tr>\n",
       "    <tr>\n",
       "      <th>2</th>\n",
       "      <td>277595</td>\n",
       "      <td>1045909</td>\n",
       "      <td>34433</td>\n",
       "      <td>202312</td>\n",
       "      <td>1</td>\n",
       "      <td>b_uno_tipo_2</td>\n",
       "      <td>Banca Personas</td>\n",
       "      <td>Personal</td>\n",
       "      <td>LIBRE INVERSION</td>\n",
       "      <td>Libre Inversion</td>\n",
       "      <td>L</td>\n",
       "      <td>36</td>\n",
       "      <td>65</td>\n",
       "      <td>65</td>\n",
       "      <td>b.31-90</td>\n",
       "      <td>79487960.0</td>\n",
       "      <td>7650063.0</td>\n",
       "      <td>75144222.95</td>\n",
       "      <td>95148044.0</td>\n",
       "      <td>Combo modificación</td>\n",
       "      <td>Prórroga modificación</td>\n",
       "      <td>Modificación novacion</td>\n",
       "      <td>3</td>\n",
       "      <td>CON23</td>\n",
       "      <td>50.0</td>\n",
       "      <td>1</td>\n",
       "      <td>0.0</td>\n",
       "      <td>0</td>\n",
       "      <td>0</td>\n",
       "      <td>0.0</td>\n",
       "      <td>0</td>\n",
       "      <td>PLAN DE COMPROMISO CUMPLIDO</td>\n",
       "      <td>ACEPTA ALTERNATIVA</td>\n",
       "      <td>Cliente compromiso de pago</td>\n",
       "      <td>NO</td>\n",
       "      <td>5122226.00</td>\n",
       "      <td>0.0</td>\n",
       "      <td>0.000000</td>\n",
       "      <td>0.0</td>\n",
       "      <td>Sin pago</td>\n",
       "      <td>NO</td>\n",
       "      <td>Sin pago</td>\n",
       "      <td>Acepta Alternativa</td>\n",
       "      <td>Acepta Alternativa</td>\n",
       "      <td>False</td>\n",
       "      <td>(10814241.5, 1589994069.0]</td>\n",
       "      <td>3561300.0</td>\n",
       "      <td>538318000.0</td>\n",
       "      <td>PAGO_MENOS</td>\n",
       "    </tr>\n",
       "    <tr>\n",
       "      <th>3</th>\n",
       "      <td>277595</td>\n",
       "      <td>1045909</td>\n",
       "      <td>34433</td>\n",
       "      <td>202312</td>\n",
       "      <td>1</td>\n",
       "      <td>b_uno_tipo_2</td>\n",
       "      <td>Banca Personas</td>\n",
       "      <td>Personal</td>\n",
       "      <td>LIBRE INVERSION</td>\n",
       "      <td>Libre Inversion</td>\n",
       "      <td>L</td>\n",
       "      <td>36</td>\n",
       "      <td>65</td>\n",
       "      <td>65</td>\n",
       "      <td>b.31-90</td>\n",
       "      <td>79487960.0</td>\n",
       "      <td>7650063.0</td>\n",
       "      <td>75144222.95</td>\n",
       "      <td>95148044.0</td>\n",
       "      <td>Combo modificación</td>\n",
       "      <td>Prórroga modificación</td>\n",
       "      <td>Modificación novacion</td>\n",
       "      <td>3</td>\n",
       "      <td>CON23</td>\n",
       "      <td>50.0</td>\n",
       "      <td>1</td>\n",
       "      <td>0.0</td>\n",
       "      <td>0</td>\n",
       "      <td>0</td>\n",
       "      <td>0.0</td>\n",
       "      <td>0</td>\n",
       "      <td>PLAN DE COMPROMISO CUMPLIDO</td>\n",
       "      <td>ACEPTA ALTERNATIVA</td>\n",
       "      <td>Cliente compromiso de pago</td>\n",
       "      <td>NO</td>\n",
       "      <td>5122226.00</td>\n",
       "      <td>0.0</td>\n",
       "      <td>0.000000</td>\n",
       "      <td>0.0</td>\n",
       "      <td>Sin pago</td>\n",
       "      <td>NO</td>\n",
       "      <td>Sin pago</td>\n",
       "      <td>Acepta Alternativa</td>\n",
       "      <td>Acepta Alternativa</td>\n",
       "      <td>False</td>\n",
       "      <td>(10814241.5, 1589994069.0]</td>\n",
       "      <td>9700000.0</td>\n",
       "      <td>538318000.0</td>\n",
       "      <td>PAGO_MENOS</td>\n",
       "    </tr>\n",
       "    <tr>\n",
       "      <th>4</th>\n",
       "      <td>26897</td>\n",
       "      <td>585786</td>\n",
       "      <td>494556</td>\n",
       "      <td>202311</td>\n",
       "      <td>1</td>\n",
       "      <td>a_uno_tipo_1</td>\n",
       "      <td>Banca Personas</td>\n",
       "      <td>Personal</td>\n",
       "      <td>ROTATIVOS</td>\n",
       "      <td>Rotativos</td>\n",
       "      <td>L</td>\n",
       "      <td>18</td>\n",
       "      <td>40</td>\n",
       "      <td>0</td>\n",
       "      <td>a.1-30</td>\n",
       "      <td>4022153.0</td>\n",
       "      <td>266898.0</td>\n",
       "      <td>3785620.00</td>\n",
       "      <td>47499162.0</td>\n",
       "      <td>Prorroga más Ampliación de plazo</td>\n",
       "      <td>Prorroga</td>\n",
       "      <td>Consolidación de pasivos</td>\n",
       "      <td>2</td>\n",
       "      <td>CON02</td>\n",
       "      <td>12.0</td>\n",
       "      <td>1</td>\n",
       "      <td>1.0</td>\n",
       "      <td>0</td>\n",
       "      <td>0</td>\n",
       "      <td>4.0</td>\n",
       "      <td>1</td>\n",
       "      <td>PLAN DE PAGO</td>\n",
       "      <td>ACEPTA ALTERNATIVA</td>\n",
       "      <td>Cliente compromiso de pago</td>\n",
       "      <td>SI</td>\n",
       "      <td>266898.00</td>\n",
       "      <td>11241.0</td>\n",
       "      <td>0.042117</td>\n",
       "      <td>4090.0</td>\n",
       "      <td>Con pago</td>\n",
       "      <td>NO</td>\n",
       "      <td>Pago parcial</td>\n",
       "      <td>Acepta Alternativa</td>\n",
       "      <td>Acepta Alternativa</td>\n",
       "      <td>True</td>\n",
       "      <td>(1577906.5, 4168354.0]</td>\n",
       "      <td>2000000.0</td>\n",
       "      <td>25193977.0</td>\n",
       "      <td>FACTURACION_MES_SGTE</td>\n",
       "    </tr>\n",
       "  </tbody>\n",
       "</table>\n",
       "</div>"
      ],
      "text/plain": [
       "   nit_enmascarado  num_oblig_orig_enmascarado  num_oblig_enmascarado  \\\n",
       "0           630611                      219718                 863073   \n",
       "1            59412                      789567                 290775   \n",
       "2           277595                     1045909                  34433   \n",
       "3           277595                     1045909                  34433   \n",
       "4            26897                      585786                 494556   \n",
       "\n",
       "   fecha_var_rpta_alt  var_rpta_alt tipo_var_rpta_alt           banca  \\\n",
       "0              202308             1      a_uno_tipo_1  Banca Personas   \n",
       "1              202312             1      a_uno_tipo_1  Banca Personas   \n",
       "2              202312             1      b_uno_tipo_2  Banca Personas   \n",
       "3              202312             1      b_uno_tipo_2  Banca Personas   \n",
       "4              202311             1      a_uno_tipo_1  Banca Personas   \n",
       "\n",
       "   segmento            producto       producto_cons aplicativo  min_mora  \\\n",
       "0  Personal  TARJETA DE CREDITO  Tarjeta de Credito          V        46   \n",
       "1  Personal     LIBRE INVERSION     Libre Inversion          L        16   \n",
       "2  Personal     LIBRE INVERSION     Libre Inversion          L        36   \n",
       "3  Personal     LIBRE INVERSION     Libre Inversion          L        36   \n",
       "4  Personal           ROTATIVOS           Rotativos          L        18   \n",
       "\n",
       "   max_mora  dias_mora_fin rango_mora  vlr_obligacion  vlr_vencido  \\\n",
       "0        71             71    b.31-90       6056996.0    1000259.0   \n",
       "1        24              0     a.1-30       9877235.0     443638.0   \n",
       "2        65             65    b.31-90      79487960.0    7650063.0   \n",
       "3        65             65    b.31-90      79487960.0    7650063.0   \n",
       "4        40              0     a.1-30       4022153.0     266898.0   \n",
       "\n",
       "   saldo_capital  endeudamiento                 desc_alternativa1  \\\n",
       "0     5808115.68     12134572.0         Reestructuración novacion   \n",
       "1     9451816.00     15479703.0  Prorroga más Ampliación de plazo   \n",
       "2    75144222.95     95148044.0                Combo modificación   \n",
       "3    75144222.95     95148044.0                Combo modificación   \n",
       "4     3785620.00     47499162.0  Prorroga más Ampliación de plazo   \n",
       "\n",
       "       desc_alternativa2         desc_alternativa3  cant_alter_posibles  \\\n",
       "0             Sin alivio                Sin alivio                    1   \n",
       "1             Prorroga    Consolidación de pasivos                    2   \n",
       "2  Prórroga modificación     Modificación novacion                    3   \n",
       "3  Prórroga modificación     Modificación novacion                    3   \n",
       "4             Prorroga    Consolidación de pasivos                    2   \n",
       "\n",
       "  alter_posible1_2  cant_gestiones  cant_gestiones_binario  rpc  \\\n",
       "0            CON22            46.0                       1  1.0   \n",
       "1            CON02            10.0                       1  1.0   \n",
       "2            CON23            50.0                       1  0.0   \n",
       "3            CON23            50.0                       1  0.0   \n",
       "4            CON02            12.0                       1  1.0   \n",
       "\n",
       "   promesas_cumplidas  cant_promesas_cumplidas_binario  cant_acuerdo  \\\n",
       "0                   0                                0           0.0   \n",
       "1                   0                                0           0.0   \n",
       "2                   0                                0           0.0   \n",
       "3                   0                                0           0.0   \n",
       "4                   0                                0           4.0   \n",
       "\n",
       "   cant_acuerdo_binario descripcion_ranking_mejor_ult  \\\n",
       "0                     0            ACEPTA ALTERNATIVA   \n",
       "1                     0            ACEPTA ALTERNATIVA   \n",
       "2                     0   PLAN DE COMPROMISO CUMPLIDO   \n",
       "3                     0   PLAN DE COMPROMISO CUMPLIDO   \n",
       "4                     1                  PLAN DE PAGO   \n",
       "\n",
       "  descripcion_ranking_post_ult              marca_alt_rank marca_alt_apli  \\\n",
       "0               CLIENTE AL DIA          Acepta alternativa             SI   \n",
       "1            NO ACEPTA ACUERDO          Acepta alternativa             SI   \n",
       "2           ACEPTA ALTERNATIVA  Cliente compromiso de pago             NO   \n",
       "3           ACEPTA ALTERNATIVA  Cliente compromiso de pago             NO   \n",
       "4           ACEPTA ALTERNATIVA  Cliente compromiso de pago             SI   \n",
       "\n",
       "   valor_cuota_mes  pago_cuota  porc_pago_cuota  pago_mes pagos_tanque  \\\n",
       "0       1047805.49    100000.0         0.095438       0.0     Sin pago   \n",
       "1        443837.00         0.0         0.000000       0.0     Sin pago   \n",
       "2       5122226.00         0.0         0.000000       0.0     Sin pago   \n",
       "3       5122226.00         0.0         0.000000       0.0     Sin pago   \n",
       "4        266898.00     11241.0         0.042117    4090.0     Con pago   \n",
       "\n",
       "  marca_debito_mora    marca_pago   marca_alternativa marca_alternativa_orig  \\\n",
       "0                NO      Sin pago  Acepta Alternativa     Acepta Alternativa   \n",
       "1                NO      Sin pago  Acepta Alternativa     Acepta Alternativa   \n",
       "2                NO      Sin pago  Acepta Alternativa     Acepta Alternativa   \n",
       "3                NO      Sin pago  Acepta Alternativa     Acepta Alternativa   \n",
       "4                NO  Pago parcial  Acepta Alternativa     Acepta Alternativa   \n",
       "\n",
       "   high_rpc_low_payment               cuartil_deuda  total_ing  \\\n",
       "0                  True     (4168354.0, 10814241.5]   700000.0   \n",
       "1                  True     (4168354.0, 10814241.5]  1136000.0   \n",
       "2                 False  (10814241.5, 1589994069.0]  3561300.0   \n",
       "3                 False  (10814241.5, 1589994069.0]  9700000.0   \n",
       "4                  True      (1577906.5, 4168354.0]  2000000.0   \n",
       "\n",
       "   tot_patrimonio       moda_marca_pago  \n",
       "0        165012.0               NO_PAGO  \n",
       "1      35000000.0            PAGO_MENOS  \n",
       "2     538318000.0            PAGO_MENOS  \n",
       "3     538318000.0            PAGO_MENOS  \n",
       "4      25193977.0  FACTURACION_MES_SGTE  "
      ]
     },
     "execution_count": 8,
     "metadata": {},
     "output_type": "execute_result"
    }
   ],
   "source": [
    "df_resultado.head()"
   ]
  },
  {
   "cell_type": "code",
   "execution_count": 6,
   "metadata": {},
   "outputs": [],
   "source": [
    "\n",
    "columns_to_drop = [\n",
    "    'num_oblig_orig_enmascarado', 'fecha_var_rpta_alt', 'tipo_var_rpta_alt',\n",
    "    'banca', 'segmento', 'producto_cons', 'aplicativo', 'desc_alternativa1',\n",
    "    'desc_alternativa2', 'desc_alternativa3', 'cant_alter_posibles',\n",
    "    'alter_posible1_2', 'promesas_cumplidas', 'cant_acuerdo',\n",
    "    'descripcion_ranking_mejor_ult', 'descripcion_ranking_post_ult',\n",
    "    'marca_alt_rank', 'marca_alt_apli', 'pago_cuota', 'pago_mes',\n",
    "    'pagos_tanque', 'marca_pago', 'marca_alternativa', 'marca_alternativa_orig',\n",
    "    'dias_mora_fin'\n",
    "]\n",
    "\n",
    "# Eliminar las columnas\n",
    "df_resultado = df_resultado.drop(columns=columns_to_drop)"
   ]
  },
  {
   "cell_type": "code",
   "execution_count": 14,
   "metadata": {},
   "outputs": [
    {
     "data": {
      "text/plain": [
       "Index(['nit_enmascarado', 'num_oblig_enmascarado', 'var_rpta_alt', 'producto',\n",
       "       'min_mora', 'max_mora', 'rango_mora', 'vlr_obligacion', 'vlr_vencido',\n",
       "       'saldo_capital', 'endeudamiento', 'cant_gestiones',\n",
       "       'cant_gestiones_binario', 'rpc', 'cant_promesas_cumplidas_binario',\n",
       "       'cant_acuerdo_binario', 'valor_cuota_mes', 'porc_pago_cuota',\n",
       "       'marca_debito_mora', 'high_rpc_low_payment', 'cuartil_deuda',\n",
       "       'total_ing', 'tot_patrimonio', 'moda_marca_pago'],\n",
       "      dtype='object')"
      ]
     },
     "execution_count": 14,
     "metadata": {},
     "output_type": "execute_result"
    }
   ],
   "source": [
    "df_resultado.columns"
   ]
  },
  {
   "cell_type": "markdown",
   "metadata": {},
   "source": [
    "# Transformación de variables numeŕicas para modelo\n",
    "\n",
    "- Las variables numéricas no binarias presentan en algunos casos una kurtosis elevada, lo que indica que los datos requieren una transformación para no verse afectados en gran cantidad por sus ouliers. si bien min_mora y dias_mora fin  no presentan una kurtosis elevada, se realizara una transformación para posterioprmente ser normalilzadas. La transformación seleccionada es la logaritmica que presentó mejores acercam,ioenmtos a la normalización "
   ]
  },
  {
   "cell_type": "code",
   "execution_count": 7,
   "metadata": {},
   "outputs": [
    {
     "data": {
      "text/plain": [
       "tot_patrimonio     152122.807854\n",
       "total_ing          398579.273370\n",
       "min_mora               -0.372721\n",
       "max_mora               67.536405\n",
       "valor_cuota_mes      5516.757520\n",
       "dtype: float64"
      ]
     },
     "execution_count": 7,
     "metadata": {},
     "output_type": "execute_result"
    }
   ],
   "source": [
    "# Lista de columnas para transformar\n",
    "columns_to_transform = ['tot_patrimonio', 'total_ing', 'min_mora', 'max_mora', 'valor_cuota_mes']\n",
    "df_resultado[columns_to_transform].kurt()\n"
   ]
  },
  {
   "cell_type": "code",
   "execution_count": 8,
   "metadata": {},
   "outputs": [],
   "source": [
    "df_train_final = pd.DataFrame() # Aqui empezamos a colocar los datos transformados para entrenar el modelo"
   ]
  },
  {
   "cell_type": "code",
   "execution_count": 9,
   "metadata": {},
   "outputs": [],
   "source": [
    "\n",
    "df_transformed = pd.DataFrame()\n",
    "\n",
    "for column in columns_to_transform:\n",
    "    df_transformed[f'{column}_log'] = df_resultado[column].apply(lambda x: np.log(x + 1))  # +1 para evitar log(0)"
   ]
  },
  {
   "cell_type": "code",
   "execution_count": 12,
   "metadata": {},
   "outputs": [
    {
     "data": {
      "text/plain": [
       "array([[<Axes: title={'center': 'tot_patrimonio_log'}>,\n",
       "        <Axes: title={'center': 'total_ing_log'}>],\n",
       "       [<Axes: title={'center': 'min_mora_log'}>,\n",
       "        <Axes: title={'center': 'max_mora_log'}>],\n",
       "       [<Axes: title={'center': 'valor_cuota_mes_log'}>, <Axes: >]],\n",
       "      dtype=object)"
      ]
     },
     "execution_count": 12,
     "metadata": {},
     "output_type": "execute_result"
    },
    {
     "data": {
      "image/png": "[encoded data removed]",
      "text/plain": [
       "<Figure size 800x800 with 6 Axes>"
      ]
     },
     "metadata": {},
     "output_type": "display_data"
    }
   ],
   "source": [
    "df_transformed.hist(bins=30, figsize=(8,8))"
   ]
  },
  {
   "cell_type": "code",
   "execution_count": 13,
   "metadata": {},
   "outputs": [
    {
     "data": {
      "text/plain": [
       "Index(['tot_patrimonio_log', 'total_ing_log', 'min_mora_log', 'max_mora_log',\n",
       "       'valor_cuota_mes_log'],\n",
       "      dtype='object')"
      ]
     },
     "execution_count": 13,
     "metadata": {},
     "output_type": "execute_result"
    }
   ],
   "source": [
    "df_transformed.columns"
   ]
  },
  {
   "cell_type": "code",
   "execution_count": 13,
   "metadata": {},
   "outputs": [
    {
     "data": {
      "text/plain": [
       "['tot_patrimonio_log',\n",
       " 'total_ing_log',\n",
       " 'min_mora_log',\n",
       " 'max_mora_log',\n",
       " 'valor_cuota_mes_log']"
      ]
     },
     "execution_count": 13,
     "metadata": {},
     "output_type": "execute_result"
    }
   ],
   "source": [
    "#from sklearn.preprocessing import MinMaxScaler\n",
    "\n",
    "#scaler = MinMaxScaler()\n",
    "log_columns = [col for col in df_transformed.columns]\n",
    "log_columns"
   ]
  },
  {
   "cell_type": "code",
   "execution_count": 15,
   "metadata": {},
   "outputs": [],
   "source": [
    "# escalar de 0 a 1\n",
    "df_transformed[log_columns] = scaler.fit_transform(df_transformed[log_columns])"
   ]
  },
  {
   "cell_type": "markdown",
   "metadata": {},
   "source": [
    "# Codificación para variables categoricas\n",
    "\n",
    "\n",
    "Para las variables categóricas del dataset, la recomendación es usar One-Hot Encoding para todas. Aunque algunas variables como rango_mora y marca_debito_mora tienen solo 2 categorías y podrían manejarse con Label Encoding, One-Hot Encoding es preferible para evitar interpretaciones ordinales incorrectas y es adecuado para variables con un número moderado a alto de categorías, como producto y moda_marca_pago. Esta técnica asegura que cada categoría se represente de manera independiente sin introducir relaciones ordinales falsas."
   ]
  },
  {
   "cell_type": "code",
   "execution_count": 16,
   "metadata": {},
   "outputs": [
    {
     "data": {
      "text/html": [
       "<div>\n",
       "<style scoped>\n",
       "    .dataframe tbody tr th:only-of-type {\n",
       "        vertical-align: middle;\n",
       "    }\n",
       "\n",
       "    .dataframe tbody tr th {\n",
       "        vertical-align: top;\n",
       "    }\n",
       "\n",
       "    .dataframe thead th {\n",
       "        text-align: right;\n",
       "    }\n",
       "</style>\n",
       "<table border=\"1\" class=\"dataframe\">\n",
       "  <thead>\n",
       "    <tr style=\"text-align: right;\">\n",
       "      <th></th>\n",
       "      <th>producto</th>\n",
       "      <th>rango_mora</th>\n",
       "      <th>marca_debito_mora</th>\n",
       "      <th>cuartil_deuda</th>\n",
       "      <th>moda_marca_pago</th>\n",
       "    </tr>\n",
       "  </thead>\n",
       "  <tbody>\n",
       "    <tr>\n",
       "      <th>count</th>\n",
       "      <td>925146</td>\n",
       "      <td>925146</td>\n",
       "      <td>925146</td>\n",
       "      <td>925146</td>\n",
       "      <td>925132</td>\n",
       "    </tr>\n",
       "    <tr>\n",
       "      <th>unique</th>\n",
       "      <td>24</td>\n",
       "      <td>2</td>\n",
       "      <td>2</td>\n",
       "      <td>4</td>\n",
       "      <td>7</td>\n",
       "    </tr>\n",
       "    <tr>\n",
       "      <th>top</th>\n",
       "      <td>TARJETA DE CREDITO</td>\n",
       "      <td>a.1-30</td>\n",
       "      <td>NO</td>\n",
       "      <td>(4168354.0, 10814241.5]</td>\n",
       "      <td>PAGO_MAS</td>\n",
       "    </tr>\n",
       "    <tr>\n",
       "      <th>freq</th>\n",
       "      <td>396419</td>\n",
       "      <td>611865</td>\n",
       "      <td>852391</td>\n",
       "      <td>231669</td>\n",
       "      <td>387097</td>\n",
       "    </tr>\n",
       "  </tbody>\n",
       "</table>\n",
       "</div>"
      ],
      "text/plain": [
       "                  producto rango_mora marca_debito_mora  \\\n",
       "count               925146     925146            925146   \n",
       "unique                  24          2                 2   \n",
       "top     TARJETA DE CREDITO     a.1-30                NO   \n",
       "freq                396419     611865            852391   \n",
       "\n",
       "                  cuartil_deuda moda_marca_pago  \n",
       "count                    925146          925132  \n",
       "unique                        4               7  \n",
       "top     (4168354.0, 10814241.5]        PAGO_MAS  \n",
       "freq                     231669          387097  "
      ]
     },
     "execution_count": 16,
     "metadata": {},
     "output_type": "execute_result"
    }
   ],
   "source": [
    "# Describir las columnas categóricas\n",
    "df_resultado.describe(include='object')"
   ]
  },
  {
   "cell_type": "code",
   "execution_count": 10,
   "metadata": {},
   "outputs": [],
   "source": [
    "from sklearn.preprocessing import OneHotEncoder\n",
    "\n",
    "# Lista de columnas categóricas a codificar\n",
    "categorical_columns = [\n",
    "    'producto', 'rango_mora', 'moda_marca_pago'\n",
    "]\n",
    "\n",
    "X_categorical = df_resultado[categorical_columns]\n",
    "encoder = OneHotEncoder(drop='first',sparse_output=False)\n",
    "encoded_features = encoder.fit_transform(X_categorical)\n",
    "encoded_df = pd.DataFrame(encoded_features, columns=encoder.get_feature_names_out(categorical_columns))\n"
   ]
  },
  {
   "cell_type": "code",
   "execution_count": 19,
   "metadata": {},
   "outputs": [
    {
     "data": {
      "text/plain": [
       "[array(['CARTERA MICROCREDITO', 'CARTERA ORDINARIA', 'CREDIAGIL',\n",
       "        'CREDIPAGO', 'CREDITO A LA MANO', 'CREDITO HIPOTECARIO',\n",
       "        'CREDITOS DE CONSUMO', 'CUENTA CORRIENTE', 'HIPOTECARIO VIVIENDA',\n",
       "        'LEASING', 'LEASING HABITACIONAL', 'LIBRANZA',\n",
       "        'LIBRANZA EX EMPLEADOS', 'LIBRE INVERSION', 'MICROCREDITO',\n",
       "        'OTROS HIPOTECARIO', 'REESTRUCTURADO', 'ROTATIVOS', 'SOBREGIRO',\n",
       "        'TARJETA DE CREDITO', 'TARJETAS DE CREDITO', 'TESORERIA',\n",
       "        'Titularizada', 'VENTA DIGITAL'], dtype=object),\n",
       " array(['a.1-30', 'b.31-90'], dtype=object),\n",
       " array(['AJUSTES_BANCO', 'CANCELADO', 'FACTURACION_MES_SGTE', 'IGUAL',\n",
       "        'NO_PAGO', 'PAGO_MAS', 'PAGO_MENOS', nan], dtype=object)]"
      ]
     },
     "execution_count": 19,
     "metadata": {},
     "output_type": "execute_result"
    }
   ],
   "source": [
    "encoder.categories_"
   ]
  },
  {
   "cell_type": "code",
   "execution_count": 25,
   "metadata": {},
   "outputs": [
    {
     "data": {
      "text/plain": [
       "array(['tot_patrimonio_log', 'total_ing_log', 'min_mora_log',\n",
       "       'max_mora_log', 'valor_cuota_mes_log'], dtype=object)"
      ]
     },
     "execution_count": 25,
     "metadata": {},
     "output_type": "execute_result"
    }
   ],
   "source": [
    "scaler.feature_names_in_"
   ]
  },
  {
   "cell_type": "code",
   "execution_count": 26,
   "metadata": {},
   "outputs": [
    {
     "data": {
      "text/plain": [
       "array(['b.31-90', 'a.1-30'], dtype=object)"
      ]
     },
     "execution_count": 26,
     "metadata": {},
     "output_type": "execute_result"
    }
   ],
   "source": [
    "df_resultado['rango_mora'].unique()"
   ]
  },
  {
   "cell_type": "code",
   "execution_count": 27,
   "metadata": {},
   "outputs": [
    {
     "data": {
      "text/plain": [
       "['tot_patrimonio_log',\n",
       " 'total_ing_log',\n",
       " 'min_mora_log',\n",
       " 'max_mora_log',\n",
       " 'valor_cuota_mes_log']"
      ]
     },
     "execution_count": 27,
     "metadata": {},
     "output_type": "execute_result"
    }
   ],
   "source": [
    "log_columns"
   ]
  },
  {
   "cell_type": "code",
   "execution_count": 28,
   "metadata": {},
   "outputs": [
    {
     "data": {
      "text/plain": [
       "Index(['nit_enmascarado', 'num_oblig_enmascarado', 'prob_propension',\n",
       "       'prob_alrt_temprana', 'prob_auto_cura'],\n",
       "      dtype='object')"
      ]
     },
     "execution_count": 28,
     "metadata": {},
     "output_type": "execute_result"
    }
   ],
   "source": [
    "df_mod_existentes.columns"
   ]
  },
  {
   "cell_type": "code",
   "execution_count": 14,
   "metadata": {},
   "outputs": [],
   "source": [
    "df_train_final[['nit_enmascarado', 'num_oblig_enmascarado']] = df_resultado[['nit_enmascarado', 'num_oblig_enmascarado']]\n",
    "#df_train_final[log_columns]=scaler.transform(df_transformed[log_columns])\n",
    "df_train_final[log_columns]=df_transformed[log_columns]\n",
    "df_train_final['var_rpta_alt']=df_resultado['var_rpta_alt']\n",
    "\n",
    "#df_train_final = pd.merge(\n",
    "#    df_train_final, \n",
    "#    df_mod_existentes, \n",
    "#    on=['nit_enmascarado', 'num_oblig_enmascarado'], \n",
    "#    how='left'\n",
    "#)\n",
    "df_train_final = pd.concat([\n",
    "    df_train_final,\n",
    "    encoded_df\n",
    "], axis=1)"
   ]
  },
  {
   "cell_type": "code",
   "execution_count": 15,
   "metadata": {},
   "outputs": [],
   "source": [
    "from sklearn.model_selection import train_test_split"
   ]
  },
  {
   "cell_type": "code",
   "execution_count": 16,
   "metadata": {},
   "outputs": [
    {
     "name": "stdout",
     "output_type": "stream",
     "text": [
      "Forma de X_train: (740116, 36)\n",
      "Forma de X_test: (185030, 36)\n",
      "Forma de y_train: (740116,)\n",
      "Forma de y_test: (185030,)\n"
     ]
    }
   ],
   "source": [
    "X = df_train_final.drop(['nit_enmascarado', 'num_oblig_enmascarado', 'var_rpta_alt'], axis=1)\n",
    "y = df_train_final['var_rpta_alt']\n",
    "\n",
    "\n",
    "X_train, X_test, y_train, y_test = train_test_split(X, y, test_size=0.2, random_state=42)\n",
    "\n",
    "# Imprimir las formas de los conjuntos resultantes\n",
    "print(\"Forma de X_train:\", X_train.shape)\n",
    "print(\"Forma de X_test:\", X_test.shape)\n",
    "print(\"Forma de y_train:\", y_train.shape)\n",
    "print(\"Forma de y_test:\", y_test.shape)\n",
    "\n",
    "X_train.to_csv('X_train.csv', index=False)\n",
    "X_test.to_csv('X_test.csv', index=False)\n",
    "y_train.to_csv('y_train.csv', index=False)\n",
    "y_test.to_csv('y_test.csv', index=False)"
   ]
  },
  {
   "cell_type": "code",
   "execution_count": 17,
   "metadata": {},
   "outputs": [],
   "source": [
    "from sklearn.metrics import f1_score\n",
    "from sklearn.model_selection import train_test_split\n",
    "from sklearn.ensemble import RandomForestClassifier\n",
    "from sklearn.linear_model import LogisticRegression\n",
    "from sklearn.tree import DecisionTreeClassifier\n",
    "from xgboost import XGBClassifier\n"
   ]
  },
  {
   "cell_type": "code",
   "execution_count": 18,
   "metadata": {},
   "outputs": [
    {
     "name": "stderr",
     "output_type": "stream",
     "text": [
      "/home/lean/miniconda3/envs/mlops_course/lib/python3.9/site-packages/sklearn/linear_model/_logistic.py:469: ConvergenceWarning: lbfgs failed to converge (status=1):\n",
      "STOP: TOTAL NO. of ITERATIONS REACHED LIMIT.\n",
      "\n",
      "Increase the number of iterations (max_iter) or scale the data as shown in:\n",
      "    https://scikit-learn.org/stable/modules/preprocessing.html\n",
      "Please also refer to the documentation for alternative solver options:\n",
      "    https://scikit-learn.org/stable/modules/linear_model.html#logistic-regression\n",
      "  n_iter_i = _check_optimize_result(\n"
     ]
    },
    {
     "name": "stdout",
     "output_type": "stream",
     "text": [
      "Logistic Regression: F1 Score = 0.6609179231698638\n",
      "Random Forest: F1 Score = 0.8982123228232571\n",
      "Decision Tree: F1 Score = 0.8743681863927449\n",
      "XGboost: F1 Score = 0.7827346869048598\n",
      "Best Model: Random Forest with F1 Score = 0.8982123228232571\n"
     ]
    }
   ],
   "source": [
    "\n",
    "# Estos reemplazos son necesarios para xgboost\n",
    "X_train.columns = X_train.columns.str.replace('[\\[\\]\\(\\)]', '', regex=True)\n",
    "X_test.columns = X_test.columns.str.replace('[\\[\\]\\(\\)]', '', regex=True)\n",
    "\n",
    "models = {\n",
    "    'Logistic Regression': LogisticRegression(),\n",
    "    'Random Forest': RandomForestClassifier(),\n",
    "    'Decision Tree': DecisionTreeClassifier(),\n",
    "    'XGboost': XGBClassifier(),\n",
    "}\n",
    "\n",
    "f1_scores = {}\n",
    "\n",
    "for model_name, model in models.items():\n",
    "    model.fit(X_train, y_train)\n",
    "    y_pred = model.predict(X_test)\n",
    "    f1 = f1_score(y_test, y_pred, average='binary')\n",
    "    f1_scores[model_name] = f1\n",
    "    print(f'{model_name}: F1 Score = {f1}')\n",
    "\n",
    "best_model_name = max(f1_scores, key=f1_scores.get)\n",
    "print(f'Best Model: {best_model_name} with F1 Score = {f1_scores[best_model_name]}')\n"
   ]
  },
  {
   "cell_type": "code",
   "execution_count": 27,
   "metadata": {},
   "outputs": [
    {
     "data": {
      "text/html": [
       "<div>\n",
       "<style scoped>\n",
       "    .dataframe tbody tr th:only-of-type {\n",
       "        vertical-align: middle;\n",
       "    }\n",
       "\n",
       "    .dataframe tbody tr th {\n",
       "        vertical-align: top;\n",
       "    }\n",
       "\n",
       "    .dataframe thead th {\n",
       "        text-align: right;\n",
       "    }\n",
       "</style>\n",
       "<table border=\"1\" class=\"dataframe\">\n",
       "  <thead>\n",
       "    <tr style=\"text-align: right;\">\n",
       "      <th></th>\n",
       "      <th>nit_enmascarado</th>\n",
       "      <th>num_oblig_orig_enmascarado</th>\n",
       "      <th>num_oblig_enmascarado</th>\n",
       "      <th>fecha_var_rpta_alt</th>\n",
       "    </tr>\n",
       "  </thead>\n",
       "  <tbody>\n",
       "    <tr>\n",
       "      <th>0</th>\n",
       "      <td>257335</td>\n",
       "      <td>444821</td>\n",
       "      <td>635511</td>\n",
       "      <td>202401</td>\n",
       "    </tr>\n",
       "    <tr>\n",
       "      <th>1</th>\n",
       "      <td>59584</td>\n",
       "      <td>350400</td>\n",
       "      <td>730364</td>\n",
       "      <td>202401</td>\n",
       "    </tr>\n",
       "    <tr>\n",
       "      <th>2</th>\n",
       "      <td>397604</td>\n",
       "      <td>973821</td>\n",
       "      <td>106521</td>\n",
       "      <td>202401</td>\n",
       "    </tr>\n",
       "    <tr>\n",
       "      <th>3</th>\n",
       "      <td>368086</td>\n",
       "      <td>382995</td>\n",
       "      <td>696856</td>\n",
       "      <td>202401</td>\n",
       "    </tr>\n",
       "    <tr>\n",
       "      <th>4</th>\n",
       "      <td>255009</td>\n",
       "      <td>434238</td>\n",
       "      <td>645924</td>\n",
       "      <td>202401</td>\n",
       "    </tr>\n",
       "  </tbody>\n",
       "</table>\n",
       "</div>"
      ],
      "text/plain": [
       "   nit_enmascarado  num_oblig_orig_enmascarado  num_oblig_enmascarado  \\\n",
       "0           257335                      444821                 635511   \n",
       "1            59584                      350400                 730364   \n",
       "2           397604                      973821                 106521   \n",
       "3           368086                      382995                 696856   \n",
       "4           255009                      434238                 645924   \n",
       "\n",
       "   fecha_var_rpta_alt  \n",
       "0              202401  \n",
       "1              202401  \n",
       "2              202401  \n",
       "3              202401  \n",
       "4              202401  "
      ]
     },
     "execution_count": 27,
     "metadata": {},
     "output_type": "execute_result"
    }
   ],
   "source": [
    "df_evaluation = pd.read_csv('files/prueba_op_base_pivot_var_rpta_alt_enmascarado_oot.csv')\n",
    "\n",
    "df_evaluation.head()"
   ]
  },
  {
   "cell_type": "code",
   "execution_count": 23,
   "metadata": {},
   "outputs": [
    {
     "name": "stderr",
     "output_type": "stream",
     "text": [
      "/home/lean/miniconda3/envs/mlops_course/lib/python3.9/site-packages/sklearn/base.py:1473: DataConversionWarning: A column-vector y was passed when a 1d array was expected. Please change the shape of y to (n_samples,), for example using ravel().\n",
      "  return fit_method(estimator, *args, **kwargs)\n"
     ]
    },
    {
     "name": "stdout",
     "output_type": "stream",
     "text": [
      "F1 Score = 0.897868473901393\n"
     ]
    }
   ],
   "source": [
    "X_train=pd.read_csv('X_train.csv')\n",
    "y_train=pd.read_csv('y_train.csv')\n",
    "X_test=pd.read_csv('X_test.csv')\n",
    "y_test=pd.read_csv('y_test.csv')\n",
    "\n",
    "model_eval = RandomForestClassifier(max_depth=None, n_estimators=100, random_state=42)\n",
    "model_eval.fit(X_train, y_train)\n",
    "y_pred = model_eval.predict(X_test)\n",
    "f1 = f1_score(y_test, y_pred, average='binary')\n",
    "print(f'F1 Score = {f1}')"
   ]
  },
  {
   "cell_type": "code",
   "execution_count": 16,
   "metadata": {},
   "outputs": [
    {
     "name": "stdout",
     "output_type": "stream",
     "text": [
      "F1 Score = 0.8809418325092889\n"
     ]
    }
   ],
   "source": [
    "model_eval2 = RandomForestClassifier(\n",
    "    n_estimators=300,        # Aumentado ligeramente de 100\n",
    "    max_depth=None,            # Limitamos la profundidad para evitar sobreajuste\n",
    "    max_features='sqrt',     # Mantenemos 'sqrt'\n",
    "    min_samples_split=4,     # Aumentado ligeramente de 2\n",
    "    min_samples_leaf=2,      # Aumentado ligeramente de 1\n",
    "    bootstrap=True,          # Mantenemos True\n",
    "    random_state=42          # Añadimos para reproducibilidad\n",
    ")\n",
    "#model_eval2 = RandomForestClassifier()\n",
    "model_eval2.fit(X_train, y_train)\n",
    "y_pred = model_eval2.predict(X_test)\n",
    "f1 = f1_score(y_test, y_pred, average='binary')\n",
    "print(f'F1 Score = {f1}')"
   ]
  },
  {
   "cell_type": "code",
   "execution_count": 6,
   "metadata": {},
   "outputs": [
    {
     "data": {
      "text/plain": [
       "{'bootstrap': True,\n",
       " 'ccp_alpha': 0.0,\n",
       " 'class_weight': None,\n",
       " 'criterion': 'gini',\n",
       " 'max_depth': None,\n",
       " 'max_features': 'sqrt',\n",
       " 'max_leaf_nodes': None,\n",
       " 'max_samples': None,\n",
       " 'min_impurity_decrease': 0.0,\n",
       " 'min_samples_leaf': 1,\n",
       " 'min_samples_split': 2,\n",
       " 'min_weight_fraction_leaf': 0.0,\n",
       " 'monotonic_cst': None,\n",
       " 'n_estimators': 100,\n",
       " 'n_jobs': None,\n",
       " 'oob_score': False,\n",
       " 'random_state': None,\n",
       " 'verbose': 0,\n",
       " 'warm_start': False}"
      ]
     },
     "execution_count": 6,
     "metadata": {},
     "output_type": "execute_result"
    }
   ],
   "source": [
    "model_eval.get_params()"
   ]
  },
  {
   "cell_type": "code",
   "execution_count": 31,
   "metadata": {},
   "outputs": [
    {
     "data": {
      "text/plain": [
       "Index(['tot_patrimonio_log', 'total_ing_log', 'min_mora_log', 'max_mora_log',\n",
       "       'valor_cuota_mes_log', 'producto_CARTERA ORDINARIA',\n",
       "       'producto_CREDIAGIL', 'producto_CREDIPAGO',\n",
       "       'producto_CREDITO A LA MANO', 'producto_CREDITO HIPOTECARIO',\n",
       "       'producto_CREDITOS DE CONSUMO', 'producto_CUENTA CORRIENTE',\n",
       "       'producto_HIPOTECARIO VIVIENDA', 'producto_LEASING',\n",
       "       'producto_LEASING HABITACIONAL', 'producto_LIBRANZA',\n",
       "       'producto_LIBRANZA EX EMPLEADOS', 'producto_LIBRE INVERSION',\n",
       "       'producto_MICROCREDITO', 'producto_OTROS HIPOTECARIO',\n",
       "       'producto_REESTRUCTURADO', 'producto_ROTATIVOS', 'producto_SOBREGIRO',\n",
       "       'producto_TARJETA DE CREDITO', 'producto_TARJETAS DE CREDITO',\n",
       "       'producto_TESORERIA', 'producto_Titularizada', 'producto_VENTA DIGITAL',\n",
       "       'rango_mora_b.31-90', 'moda_marca_pago_CANCELADO',\n",
       "       'moda_marca_pago_FACTURACION_MES_SGTE', 'moda_marca_pago_IGUAL',\n",
       "       'moda_marca_pago_NO_PAGO', 'moda_marca_pago_PAGO_MAS',\n",
       "       'moda_marca_pago_PAGO_MENOS', 'moda_marca_pago_nan'],\n",
       "      dtype='object')"
      ]
     },
     "execution_count": 31,
     "metadata": {},
     "output_type": "execute_result"
    }
   ],
   "source": [
    "X_train.columns"
   ]
  },
  {
   "cell_type": "code",
   "execution_count": 19,
   "metadata": {},
   "outputs": [],
   "source": [
    "def log_trans(valor):\n",
    "    return np.log(valor+1)\n",
    "\n",
    "def normalize_values(valor):\n",
    "    return scaler.transform(valor)"
   ]
  },
  {
   "cell_type": "code",
   "execution_count": 20,
   "metadata": {},
   "outputs": [],
   "source": [
    "def ohe_features(values):\n",
    "\n",
    "    return encoder.transform(values)"
   ]
  },
  {
   "cell_type": "code",
   "execution_count": 39,
   "metadata": {},
   "outputs": [
    {
     "data": {
      "text/plain": [
       "Index(['tot_patrimonio_log', 'total_ing_log', 'min_mora_log', 'max_mora_log',\n",
       "       'valor_cuota_mes_log', 'producto_CARTERA ORDINARIA',\n",
       "       'producto_CREDIAGIL', 'producto_CREDIPAGO',\n",
       "       'producto_CREDITO A LA MANO', 'producto_CREDITO HIPOTECARIO',\n",
       "       'producto_CREDITOS DE CONSUMO', 'producto_CUENTA CORRIENTE',\n",
       "       'producto_HIPOTECARIO VIVIENDA', 'producto_LEASING',\n",
       "       'producto_LEASING HABITACIONAL', 'producto_LIBRANZA',\n",
       "       'producto_LIBRANZA EX EMPLEADOS', 'producto_LIBRE INVERSION',\n",
       "       'producto_MICROCREDITO', 'producto_OTROS HIPOTECARIO',\n",
       "       'producto_REESTRUCTURADO', 'producto_ROTATIVOS', 'producto_SOBREGIRO',\n",
       "       'producto_TARJETA DE CREDITO', 'producto_TARJETAS DE CREDITO',\n",
       "       'producto_TESORERIA', 'producto_Titularizada', 'producto_VENTA DIGITAL',\n",
       "       'rango_mora_b.31-90', 'moda_marca_pago_CANCELADO',\n",
       "       'moda_marca_pago_FACTURACION_MES_SGTE', 'moda_marca_pago_IGUAL',\n",
       "       'moda_marca_pago_NO_PAGO', 'moda_marca_pago_PAGO_MAS',\n",
       "       'moda_marca_pago_PAGO_MENOS', 'moda_marca_pago_nan'],\n",
       "      dtype='object')"
      ]
     },
     "execution_count": 39,
     "metadata": {},
     "output_type": "execute_result"
    }
   ],
   "source": [
    "X_train.columns"
   ]
  },
  {
   "cell_type": "code",
   "execution_count": 28,
   "metadata": {},
   "outputs": [
    {
     "name": "stderr",
     "output_type": "stream",
     "text": [
      "Procesando:   0%|          | 0/112549 [00:00<?, ?it/s]"
     ]
    },
    {
     "name": "stderr",
     "output_type": "stream",
     "text": [
      "Procesando: 100%|██████████| 112549/112549 [2:19:26<00:00, 13.45it/s] "
     ]
    },
    {
     "name": "stdout",
     "output_type": "stream",
     "text": [
      "Total de predicciones sin data encontrada en ningun archivo: 22241\n"
     ]
    },
    {
     "name": "stderr",
     "output_type": "stream",
     "text": [
      "\n"
     ]
    }
   ],
   "source": [
    "import warnings\n",
    "from tqdm import tqdm\n",
    "\n",
    "warnings.filterwarnings('ignore')\n",
    "output_file = 'sample_submission_5.csv'\n",
    "unknown_count = 0\n",
    "predict_columns_names = X_train.columns\n",
    "\n",
    "# Función para verificar si un valor está vacío o es NaN\n",
    "def is_empty_or_nan(value):\n",
    "    if isinstance(value, (pd.Series, pd.DataFrame)):\n",
    "        return value.empty\n",
    "    return pd.isna(value) or value is None\n",
    "\n",
    "with open(output_file, 'w') as f:\n",
    "    f.write('ID,var_rpta_alt\\n')\n",
    "\n",
    "\n",
    "    for _, row in tqdm(df_evaluation.iterrows(), total=len(df_evaluation), desc=\"Procesando\"):\n",
    "        nit_enmascarado = row['nit_enmascarado']\n",
    "        num_oblig_orig_enmascarado = row['num_oblig_orig_enmascarado']\n",
    "        num_oblig_enmascarado = row['num_oblig_enmascarado']\n",
    "\n",
    "        # Obtener datos\n",
    "        tot_patrimonio = df_demografico['tot_patrimonio'][(df_demografico['nit_enmascarado'] == nit_enmascarado)].median()\n",
    "        total_ing = df_demografico['total_ing'][(df_demografico['nit_enmascarado'] == nit_enmascarado)].median()\n",
    "        min_mora = df_historic['dias_mora'][(df_historic['nit_enmascarado'] == nit_enmascarado) & (df_historic['num_oblig_enmascarado'] == num_oblig_enmascarado)].min()\n",
    "        max_mora = df_historic['dias_mora'][(df_historic['nit_enmascarado'] == nit_enmascarado) & (df_historic['num_oblig_enmascarado'] == num_oblig_enmascarado)].max()\n",
    "        valor_cuota_mes = df_historic['valor_cuota_mes'][(df_historic['nit_enmascarado'] == nit_enmascarado) & (df_historic['num_oblig_enmascarado'] == num_oblig_enmascarado)].median()\n",
    "        producto = df_historic['producto'][(df_historic['nit_enmascarado'] == nit_enmascarado) & (df_historic['num_oblig_enmascarado'] == num_oblig_enmascarado)].mode()\n",
    "        moda_marca_pago = df_historic['marca_pago'][(df_historic['nit_enmascarado'] == nit_enmascarado) & (df_historic['num_oblig_enmascarado'] == num_oblig_enmascarado)].mode()\n",
    "\n",
    "        # Verificar si algún dato está vacío\n",
    "        if (is_empty_or_nan(tot_patrimonio) or is_empty_or_nan(total_ing) or \n",
    "            is_empty_or_nan(min_mora) or is_empty_or_nan(max_mora) or \n",
    "            is_empty_or_nan(valor_cuota_mes) or producto.empty or moda_marca_pago.empty):\n",
    "            prediction = 1\n",
    "            unknown_count += 1\n",
    "\n",
    "        else:\n",
    "            # Realizar transformaciones y predicción\n",
    "            tot_patrimonio_log = log_trans(tot_patrimonio)\n",
    "            total_ing_log = log_trans(total_ing)\n",
    "            min_mora_log = log_trans(min_mora)\n",
    "            max_mora_log = log_trans(max_mora)\n",
    "            valor_cuota_mes_log = log_trans(valor_cuota_mes)\n",
    "            numeric_features = [tot_patrimonio_log, total_ing_log, min_mora_log, max_mora_log, valor_cuota_mes_log]\n",
    "            numeric_features_scaled = normalize_values([numeric_features])[0]\n",
    "\n",
    "            producto = producto.iloc[0]\n",
    "            moda_marca_pago = moda_marca_pago.iloc[0]\n",
    "            rango_mora_log = 'a.1-30' if max_mora <= 30 else 'b.31-90'\n",
    "\n",
    "            encoded_features = ohe_features([[producto, rango_mora_log, moda_marca_pago]])\n",
    "            data = list(numeric_features_scaled) + list(encoded_features[0])\n",
    "            df_predict = pd.DataFrame([data], columns=predict_columns_names)\n",
    "            prediction = model_eval.predict(df_predict)[0]\n",
    "\n",
    "        f.write(f'{nit_enmascarado}#{num_oblig_orig_enmascarado}#{num_oblig_enmascarado},{prediction}\\n')\n",
    "\n",
    "print(f'Total de predicciones sin data encontrada en ningun archivo: {unknown_count}')"
   ]
  }
 ],
 "metadata": {
  "kernelspec": {
   "display_name": "mlops_course",
   "language": "python",
   "name": "python3"
  },
  "language_info": {
   "codemirror_mode": {
    "name": "ipython",
    "version": 3
   },
   "file_extension": ".py",
   "mimetype": "text/x-python",
   "name": "python",
   "nbconvert_exporter": "python",
   "pygments_lexer": "ipython3",
   "version": "3.9.18"
  }
 },
 "nbformat": 4,
 "nbformat_minor": 2
}
